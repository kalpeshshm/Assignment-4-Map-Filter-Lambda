{
 "cells": [
  {
   "cell_type": "markdown",
   "id": "413ffc20",
   "metadata": {},
   "source": [
    "# Assignment-4: Map | Filter | Lambda"
   ]
  },
  {
   "cell_type": "markdown",
   "id": "ebab889c",
   "metadata": {},
   "source": [
    "# 2. Find the way with Maps"
   ]
  },
  {
   "cell_type": "markdown",
   "id": "22d117e0",
   "metadata": {},
   "source": [
    "# Write a Python program to triple all numbers of a given list of integers. Use Python map."
   ]
  },
  {
   "cell_type": "code",
   "execution_count": 2,
   "id": "39032732",
   "metadata": {},
   "outputs": [
    {
     "name": "stdout",
     "output_type": "stream",
     "text": [
      "sample list:  (1, 2, 3, 4, 5, 6, 7)\n",
      "\n",
      "triple of said list numbers:\n",
      "[3, 6, 9, 12, 15, 18, 21]\n"
     ]
    }
   ],
   "source": [
    "num = (1, 2, 3, 4 ,5 ,6 ,7 )\n",
    "print(\"sample list: \",num)\n",
    "a = map(lambda x: x + x + x, num)\n",
    "print(\"\\ntriple of said list numbers:\")\n",
    "print(list(a))"
   ]
  },
  {
   "cell_type": "code",
   "execution_count": null,
   "id": "878a3d31",
   "metadata": {},
   "outputs": [],
   "source": []
  }
 ],
 "metadata": {
  "kernelspec": {
   "display_name": "Python 3 (ipykernel)",
   "language": "python",
   "name": "python3"
  },
  "language_info": {
   "codemirror_mode": {
    "name": "ipython",
    "version": 3
   },
   "file_extension": ".py",
   "mimetype": "text/x-python",
   "name": "python",
   "nbconvert_exporter": "python",
   "pygments_lexer": "ipython3",
   "version": "3.10.0"
  }
 },
 "nbformat": 4,
 "nbformat_minor": 5
}
