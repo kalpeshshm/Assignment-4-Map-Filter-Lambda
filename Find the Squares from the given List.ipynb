{
 "cells": [
  {
   "cell_type": "markdown",
   "id": "0e233bc8",
   "metadata": {},
   "source": [
    "# Assignment-4: Map | Filter | Lambda"
   ]
  },
  {
   "cell_type": "markdown",
   "id": "f1d1293d",
   "metadata": {},
   "source": [
    "# 3. Find the Squares from the given List"
   ]
  },
  {
   "cell_type": "markdown",
   "id": "bc705e80",
   "metadata": {},
   "source": [
    "# Write a Python program to square the elements of a list using map() function."
   ]
  },
  {
   "cell_type": "code",
   "execution_count": 4,
   "id": "cf7b2f49",
   "metadata": {},
   "outputs": [
    {
     "name": "stdout",
     "output_type": "stream",
     "text": [
      "Square the element of list:\n",
      "[16, 25, 4, 81]\n"
     ]
    }
   ],
   "source": [
    "def Square_num(n):\n",
    "    return n * n\n",
    "nums = [4, 5, 2, 9]\n",
    "a = map(Square_num,nums)\n",
    "print(\"Square the element of list:\")\n",
    "print(list(a))"
   ]
  },
  {
   "cell_type": "code",
   "execution_count": null,
   "id": "d49256fc",
   "metadata": {},
   "outputs": [],
   "source": []
  }
 ],
 "metadata": {
  "kernelspec": {
   "display_name": "Python 3 (ipykernel)",
   "language": "python",
   "name": "python3"
  },
  "language_info": {
   "codemirror_mode": {
    "name": "ipython",
    "version": 3
   },
   "file_extension": ".py",
   "mimetype": "text/x-python",
   "name": "python",
   "nbconvert_exporter": "python",
   "pygments_lexer": "ipython3",
   "version": "3.10.0"
  }
 },
 "nbformat": 4,
 "nbformat_minor": 5
}
