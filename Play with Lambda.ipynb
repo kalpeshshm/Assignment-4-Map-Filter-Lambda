{
 "cells": [
  {
   "cell_type": "markdown",
   "id": "af9806d2",
   "metadata": {},
   "source": [
    "# Assignment-4: Map | Filter | Lambda"
   ]
  },
  {
   "cell_type": "markdown",
   "id": "0f0ec729",
   "metadata": {},
   "source": [
    "# 1.Play with Lambda"
   ]
  },
  {
   "cell_type": "markdown",
   "id": "e3d5f9ac",
   "metadata": {},
   "source": [
    "# Write a Python program to create a lambda function that adds 25 to a given number passed in as an argument.\n",
    "\n"
   ]
  },
  {
   "cell_type": "code",
   "execution_count": 3,
   "id": "16183414",
   "metadata": {},
   "outputs": [
    {
     "name": "stdout",
     "output_type": "stream",
     "text": [
      "35\n"
     ]
    }
   ],
   "source": [
    "num = lambda c: c + 25\n",
    "\n",
    "print(num(10))"
   ]
  }
 ],
 "metadata": {
  "kernelspec": {
   "display_name": "Python 3 (ipykernel)",
   "language": "python",
   "name": "python3"
  },
  "language_info": {
   "codemirror_mode": {
    "name": "ipython",
    "version": 3
   },
   "file_extension": ".py",
   "mimetype": "text/x-python",
   "name": "python",
   "nbconvert_exporter": "python",
   "pygments_lexer": "ipython3",
   "version": "3.10.0"
  }
 },
 "nbformat": 4,
 "nbformat_minor": 5
}
